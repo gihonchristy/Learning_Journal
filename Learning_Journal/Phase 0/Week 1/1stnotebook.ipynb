{
 "cells": [
  {
   "cell_type": "markdown",
   "metadata": {},
   "source": [
    "# Notebook Pertama"
   ]
  },
  {
   "cell_type": "code",
   "execution_count": null,
   "metadata": {},
   "outputs": [
    {
     "ename": "",
     "evalue": "",
     "output_type": "error",
     "traceback": [
      "\u001b[1;31mDer Kernel konnte nicht gestartet werden. \n",
      "Der Kernel „base (Python 3.9.12)“ kann aufgrund eines Verbindungstimeouts nicht gestartet werden. \r\n",
      "Weitere Details finden Sie im Jupyter-<a href='command:jupyter.viewOutput'>Protokoll</a>."
     ]
    }
   ],
   "source": [
    "print(\"halo dari notebook\")"
   ]
  },
  {
   "cell_type": "markdown",
   "metadata": {},
   "source": [
    "## Tipe Data dalam Python"
   ]
  },
  {
   "cell_type": "code",
   "execution_count": null,
   "metadata": {},
   "outputs": [
    {
     "ename": "",
     "evalue": "",
     "output_type": "error",
     "traceback": [
      "\u001b[1;31mDer Kernel konnte nicht gestartet werden. \n",
      "Der Kernel „base (Python 3.9.12)“ kann aufgrund eines Verbindungstimeouts nicht gestartet werden. \r\n",
      "Weitere Details finden Sie im Jupyter-<a href='command:jupyter.viewOutput'>Protokoll</a>."
     ]
    }
   ],
   "source": [
    "5"
   ]
  },
  {
   "cell_type": "code",
   "execution_count": null,
   "metadata": {},
   "outputs": [
    {
     "ename": "",
     "evalue": "",
     "output_type": "error",
     "traceback": [
      "\u001b[1;31mDer Kernel konnte nicht gestartet werden. \n",
      "Der Kernel „base (Python 3.9.12)“ kann aufgrund eines Verbindungstimeouts nicht gestartet werden. \r\n",
      "Weitere Details finden Sie im Jupyter-<a href='command:jupyter.viewOutput'>Protokoll</a>."
     ]
    }
   ],
   "source": [
    "5.0"
   ]
  },
  {
   "cell_type": "code",
   "execution_count": null,
   "metadata": {},
   "outputs": [],
   "source": []
  }
 ],
 "metadata": {
  "kernelspec": {
   "display_name": "Python 3.9.12 ('base')",
   "language": "python",
   "name": "python3"
  },
  "language_info": {
   "name": "python",
   "version": "3.9.12"
  },
  "orig_nbformat": 4,
  "vscode": {
   "interpreter": {
    "hash": "01ef3f3239e4abe7f057d2cae197b023713b795c24396d67e0f158e9fc4a7da9"
   }
  }
 },
 "nbformat": 4,
 "nbformat_minor": 2
}
